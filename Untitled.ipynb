{
 "cells": [
  {
   "cell_type": "code",
   "execution_count": 1,
   "metadata": {},
   "outputs": [],
   "source": [
    "import json\n",
    "\n",
    "from scripts.pull_crypto import *"
   ]
  },
  {
   "cell_type": "code",
   "execution_count": 8,
   "metadata": {},
   "outputs": [],
   "source": [
    "def read_json(filepath):\n",
    "    # open and read file\n",
    "    with open(filepath, \"r\") as f:\n",
    "        d = f.read().replace(\"'\", '\"').strip(\"'\").replace('{', \"\")\n",
    "        d = d.replace('}', \"\")\n",
    "        \n",
    "    return d\n",
    "\n",
    "\n",
    "d = read_json(\"scripts/html/data.json\")"
   ]
  },
  {
   "cell_type": "code",
   "execution_count": 14,
   "metadata": {},
   "outputs": [],
   "source": [
    "d = [(\"quote_USD_price\", 7256.50763292), (\"quote_USD_volume_24h\", 18093249851.4391), (\"quote_USD_percent_change_1h\", 0.160725), (\"quote_USD_percent_change_24h\", 0.752455), (\"quote_USD_percent_change_7d\", -2.41726), (\"quote_USD_market_cap\", 131329632107.51352), (\"quote_USD_last_updated\", \"2019-12-13T00:44:32.000Z\")]"
   ]
  },
  {
   "cell_type": "code",
   "execution_count": 23,
   "metadata": {},
   "outputs": [],
   "source": [
    "d = dict(d)\n",
    "json.dump(d, open(\"data.json\", \"w\"))"
   ]
  },
  {
   "cell_type": "code",
   "execution_count": 24,
   "metadata": {},
   "outputs": [
    {
     "data": {
      "text/plain": [
       "{'quote_USD_price': 7256.50763292,\n",
       " 'quote_USD_volume_24h': 18093249851.4391,\n",
       " 'quote_USD_percent_change_1h': 0.160725,\n",
       " 'quote_USD_percent_change_24h': 0.752455,\n",
       " 'quote_USD_percent_change_7d': -2.41726,\n",
       " 'quote_USD_market_cap': 131329632107.51352,\n",
       " 'quote_USD_last_updated': '2019-12-13T00:44:32.000Z'}"
      ]
     },
     "execution_count": 24,
     "metadata": {},
     "output_type": "execute_result"
    }
   ],
   "source": [
    "json.red"
   ]
  },
  {
   "cell_type": "code",
   "execution_count": null,
   "metadata": {},
   "outputs": [],
   "source": []
  }
 ],
 "metadata": {
  "kernelspec": {
   "display_name": "Python [conda env:crypto_project] *",
   "language": "python",
   "name": "conda-env-crypto_project-py"
  },
  "language_info": {
   "codemirror_mode": {
    "name": "ipython",
    "version": 3
   },
   "file_extension": ".py",
   "mimetype": "text/x-python",
   "name": "python",
   "nbconvert_exporter": "python",
   "pygments_lexer": "ipython3",
   "version": "3.7.0"
  }
 },
 "nbformat": 4,
 "nbformat_minor": 2
}
